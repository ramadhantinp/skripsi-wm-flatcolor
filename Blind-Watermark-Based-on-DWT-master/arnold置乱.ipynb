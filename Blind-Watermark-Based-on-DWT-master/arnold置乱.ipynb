{
 "cells": [
  {
   "cell_type": "code",
   "execution_count": 2,
   "metadata": {
    "collapsed": true
   },
   "outputs": [],
   "source": [
    "import numpy as np\n",
    "import cv2\n",
    "import math\n",
    "import matplotlib.pyplot as plt"
   ]
  },
  {
   "cell_type": "code",
   "execution_count": 245,
   "metadata": {
    "collapsed": false
   },
   "outputs": [
    {
     "name": "stdout",
     "output_type": "stream",
     "text": [
      "64\n",
      "test\n",
      "test\n"
     ]
    },
    {
     "data": {
      "image/png": "[encoded data removed]",
      "text/plain": [
       "<matplotlib.figure.Figure at 0xe2436d8>"
      ]
     },
     "metadata": {},
     "output_type": "display_data"
    }
   ],
   "source": [
    "wmname = 'wm1.png'\n",
    "wm = cv2.imread('./data/'+wmname,cv2.IMREAD_GRAYSCALE)\n",
    "outname = './output/'+'dwt_'+wmname\n",
    "\n",
    "k = 3\n",
    "a = 3\n",
    "b = 5\n",
    "size = wm.shape[0]\n",
    "print(size)\n",
    "wm_1 = np.zeros([64,64])\n",
    "wm_2 = np.zeros([64,64])\n",
    "\n",
    "for i in range(1, k):\n",
    "    for m in range(size):\n",
    "        for n in range(size):\n",
    "            x = (n+b*m)%size\n",
    "            y = ((a*n)+(a*b+1)*m)%size\n",
    "            wm_1[y][x] = wm[m][n]\n",
    "    print('test')\n",
    "    wm = wm_1\n",
    "\n",
    "plt.imshow(wm, cmap='Greys_r')\n",
    "plt.show()"
   ]
  },
  {
   "cell_type": "code",
   "execution_count": 246,
   "metadata": {
    "collapsed": false
   },
   "outputs": [
    {
     "name": "stdout",
     "output_type": "stream",
     "text": [
      "test\n",
      "test\n"
     ]
    },
    {
     "data": {
      "image/png": "[encoded data removed]",
      "text/plain": [
       "<matplotlib.figure.Figure at 0xdfff7f0>"
      ]
     },
     "metadata": {},
     "output_type": "display_data"
    }
   ],
   "source": [
    "for i in range(1, k):\n",
    "    for m in range(size):\n",
    "        for n in range(size):\n",
    "            x = ((a*b+1)*n-b*m)%size\n",
    "            y = (-a*n+m)%size\n",
    "            wm_2[y][x] = wm[m][n]\n",
    "    print('test')\n",
    "    wm = wm_2\n",
    "plt.imshow(wm_2, cmap='Greys_r')\n",
    "plt.show()"
   ]
  }
 ],
 "metadata": {
  "anaconda-cloud": {},
  "kernelspec": {
   "display_name": "Python [conda root]",
   "language": "python",
   "name": "conda-root-py"
  },
  "language_info": {
   "codemirror_mode": {
    "name": "ipython",
    "version": 3
   },
   "file_extension": ".py",
   "mimetype": "text/x-python",
   "name": "python",
   "nbconvert_exporter": "python",
   "pygments_lexer": "ipython3",
   "version": "3.5.2"
  }
 },
 "nbformat": 4,
 "nbformat_minor": 1
}
